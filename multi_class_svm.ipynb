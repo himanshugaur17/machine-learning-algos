{
  "cells": [
    {
      "cell_type": "markdown",
      "metadata": {
        "id": "view-in-github",
        "colab_type": "text"
      },
      "source": [
        "<a href=\"https://colab.research.google.com/github/himanshugaur17/machine-learning-algos/blob/main/multi_class_svm.ipynb\" target=\"_parent\"><img src=\"https://colab.research.google.com/assets/colab-badge.svg\" alt=\"Open In Colab\"/></a>"
      ]
    },
    {
      "cell_type": "code",
      "execution_count": 1,
      "metadata": {
        "id": "oF6bcFSa_q7K"
      },
      "outputs": [],
      "source": [
        "import seaborn as sns\n",
        "import scipy.sparse as sp\n",
        "import pandas as pd\n",
        "import numpy as np\n",
        "import matplotlib.pyplot as plt"
      ]
    },
    {
      "cell_type": "code",
      "execution_count": null,
      "metadata": {
        "colab": {
          "base_uri": "https://localhost:8080/"
        },
        "id": "SiFigg0LSuwY",
        "outputId": "0a642f02-daf2-4c15-9eb1-58a85c664808"
      },
      "outputs": [
        {
          "data": {
            "text/plain": [
              "(5,)"
            ]
          },
          "execution_count": 3,
          "metadata": {},
          "output_type": "execute_result"
        }
      ],
      "source": [
        "    X = np.array([[-2, 4], [4, 1], [1, 6], [2, 4], [6, 2]])\n",
        "    y = np.array([0, 0, 1, 1, 1])\n",
        "    np.shape(y.T)"
      ]
    },
    {
      "cell_type": "code",
      "execution_count": 64,
      "metadata": {
        "id": "f_PGc1h1Qiy7"
      },
      "outputs": [],
      "source": [
        "class SVMClassifier:\n",
        "    def __init__(self, lam):\n",
        "      self.regularizer=lam\n",
        "      self.theta=None\n",
        "      self.b=None\n",
        "\n",
        "    def loss(self, h, y):\n",
        "      n=y.shape[0]\n",
        "      squared_theta_sum=np.dot(self.theta,self.theta.T)\n",
        "      average_squared_theta_sum=(self.regularizer*squared_theta_sum)\n",
        "      y_dot_h=1-h*y\n",
        "      return (np.sum(y_dot_h.clip(min=0))+average_squared_theta_sum)/(2*n)\n",
        "\n",
        "    def fit(self, X, y, n_iters = 100, alpha = 1):\n",
        "      n,k=X.shape\n",
        "      loss_list=[]\n",
        "      self.theta=np.zeros((k,))\n",
        "      self.b=0\n",
        "      h=self.decision_function(X)\n",
        "      loss_list.append(self.loss(h,y))\n",
        "      for i in range(n_iters):\n",
        "        h=self.decision_function(X)\n",
        "        condition=y*h<=1\n",
        "\n",
        "        y_sum=-1*(y[condition].sum())\n",
        "        x_multiplied_y=(np.where(condition,1,0).reshape(-1,1))*(y.reshape(-1,1)*X)\n",
        "        x_multiplied_y_summation=-1*(np.sum(x_multiplied_y,axis=0))+np.multiply(2*self.regularizer,self.theta)\n",
        "\n",
        "        self.b=self.b-(alpha/(2*n))*(y_sum)\n",
        "        self.theta=self.theta-(alpha/(2*n))*(x_multiplied_y_summation)\n",
        "\n",
        "        h=self.decision_function(X)\n",
        "        loss_list.append(self.loss(h,y))\n",
        "      return loss_list\n",
        "\n",
        "    def get_params(self):\n",
        "      return self.theta,self.b\n",
        "\n",
        "    def decision_function(self, X):\n",
        "      h=np.dot(X,self.theta.T)+self.b\n",
        "      return h\n",
        "\n",
        "    def predict(self, X):\n",
        "      h=self.decision_function(X)\n",
        "      return np.where(h>=0,1,-1)\n",
        "\n",
        "def binary_svm_classifier(lam = 1e-4):\n",
        "    return SVMClassifier(lam)"
      ]
    },
    {
      "cell_type": "code",
      "source": [
        "class MultiClassSVMClassifier:\n",
        "    def __init__(self, lam):\n",
        "      self.regularizer=lam\n",
        "      self.theta=None\n",
        "      self.b=None\n",
        "\n",
        "    def generate_label_matrix(self,Y,k):\n",
        "      n=Y.shape[0]\n",
        "      y=np.zeros((n,k))\n",
        "      y.fill(-1)\n",
        "      for i in range(n):\n",
        "        y[i,Y[i]]=1\n",
        "      return y\n",
        "\n",
        "    def loss(self, h, y):\n",
        "      n,k=h.shape\n",
        "      squared_theta_sum=(self.regularizer)*(np.sum(np.square(self.theta)))\n",
        "      hy=h*np.where(y<0,0,y)\n",
        "      h_minus_yh=h-(hy.sum(axis=1).reshape(-1,1))+1\n",
        "      h_minus_yh=h_minus_yh.clip(min=0)\n",
        "      return (h_minus_yh.sum()-n+squared_theta_sum)/(2*n)\n",
        "\n",
        "    def fit(self, X, Y, n_iters = 100, alpha = 1):\n",
        "      classes_count=Y.max()+1\n",
        "      k=classes_count\n",
        "      n,d=X.shape\n",
        "      self.theta=np.zeros((d,k))\n",
        "      self.b=np.zeros((k,))\n",
        "      lr = binary_svm_classifier(lam = 1e-4)\n",
        "      y=self.generate_label_matrix(Y,k)\n",
        "      for i in range(k):\n",
        "        lr.fit(X,y.T[i],n_iters)\n",
        "        self.theta[:,i],self.b[i]=lr.get_params()\n",
        "      return self.loss(self.decision_function(X),y)\n",
        "\n",
        "    def get_params(self):\n",
        "      return self.theta,self.b\n",
        "\n",
        "\n",
        "    def decision_function(self, X):\n",
        "      h=np.dot(X,self.theta)+self.b\n",
        "      return h\n",
        "\n",
        "    def predict(self, X):\n",
        "      h=self.decision_function(X)\n",
        "      return np.argmax(h,axis=1)\n",
        "\n",
        "# do not modify this function\n",
        "def multiclass_svm_classifier(lam = 1e-4):\n",
        "    return MultiClassSVMClassifier(lam)"
      ],
      "metadata": {
        "id": "dEcQS6nh00rJ"
      },
      "execution_count": 75,
      "outputs": []
    },
    {
      "cell_type": "code",
      "source": [
        "    X = np.array([\n",
        "        [1, 6], [1, 7], [2, 5], [2, 8],\n",
        "        [4, 2], [4, 3], [5, 1], [5, 2],\n",
        "        [5, 3], [6, 1], [6, 2], [9, 4],\n",
        "        [9, 7], [10, 5], [10, 6], [11, 6],\n",
        "        [5, 9], [5, 10], [5, 11], [6, 9],\n",
        "        [6, 10], [7, 10], [8, 11]\n",
        "    ])\n",
        "    y = np.array([\n",
        "        0, 0, 0, 0,\n",
        "        1, 1, 1, 1, 1, 1, 1,\n",
        "        2, 2, 2, 2, 2,\n",
        "        3, 3, 3, 3, 3, 3, 3\n",
        "    ])\n",
        ""
      ],
      "metadata": {
        "id": "IP5xP0AsAnqb"
      },
      "execution_count": 63,
      "outputs": []
    },
    {
      "cell_type": "code",
      "source": [],
      "metadata": {
        "id": "DxlkQPLBApbC"
      },
      "execution_count": null,
      "outputs": []
    },
    {
      "cell_type": "code",
      "source": [
        "def test_multiclass_svm_classifier():\n",
        "    X = np.array([\n",
        "        [1, 6], [1, 7], [2, 5], [2, 8],\n",
        "        [4, 2], [4, 3], [5, 1], [5, 2],\n",
        "        [5, 3], [6, 1], [6, 2], [9, 4],\n",
        "        [9, 7], [10, 5], [10, 6], [11, 6],\n",
        "        [5, 9], [5, 10], [5, 11], [6, 9],\n",
        "        [6, 10], [7, 10], [8, 11]\n",
        "    ])\n",
        "    y = np.array([\n",
        "        0, 0, 0, 0,\n",
        "        1, 1, 1, 1, 1, 1, 1,\n",
        "        2, 2, 2, 2, 2,\n",
        "        3, 3, 3, 3, 3, 3, 3\n",
        "    ])\n",
        "    multi_svm = multiclass_svm_classifier(lam = 1e-4)\n",
        "\n",
        "    # before gradient descent\n",
        "    final_loss = multi_svm.fit(X, y, n_iters = 0)\n",
        "    thetas, bs = multi_svm.get_params()\n",
        "    assert np.allclose(thetas, np.zeros((2, 4)))\n",
        "    assert np.allclose(bs, np.zeros(4))\n",
        "    assert np.allclose(final_loss, 1.5)\n",
        "    assert np.allclose(multi_svm.decision_function(X), np.full((len(y), 4), 0))\n",
        "    assert list(multi_svm.predict(X)) == [0] * len(y)\n",
        "\n",
        "    # gradient descent 1 iter\n",
        "    final_loss = multi_svm.fit(X, y, n_iters = 1)\n",
        "    thetas, bs = multi_svm.get_params()\n",
        "    assert np.allclose(thetas, np.array(\n",
        "        [[-2.60869565, -1.34782609, -0.73913043, -1.04347826],\n",
        "         [-1.86956522, -2.39130435, -1.7826087,   0.04347826]]\n",
        "    ))\n",
        "    assert np.allclose(bs, [-0.32608696, -0.19565217, -0.2826087, -0.19565217])\n",
        "    assert np.allclose(final_loss, 4.607799712336648)\n",
        "    assert np.allclose(multi_svm.decision_function(X), np.loadtxt(\"/content/drive/MyDrive/ApNotebook/machine_learning_v2_2/local_test_refs/multi_svm_decision_function_1.npy\"))\n",
        "    assert list(multi_svm.predict(X)) == [3] * len(y)\n",
        "\n",
        "    # gradient descent 2 iters\n",
        "    final_loss = multi_svm.fit(X, y, n_iters = 2)\n",
        "    thetas, bs = multi_svm.get_params()\n",
        "    assert np.allclose(thetas, np.array(\n",
        "        [[-2.478249527410208, -0.5869506616257089, 0.32609017013232533, -0.173908506616257],\n",
        "         [-1.3043396975425332, -2.086946124763705, -1.1739052930056708, 1.282608506616257]]\n",
        "    ))\n",
        "    assert np.allclose(bs, [-0.2391304347826087, -0.043478260869565216, -0.17391304347826086, -0.08695652173913045])\n",
        "    assert np.allclose(final_loss, 6.08933628122314)\n",
        "    assert np.allclose(multi_svm.decision_function(X), np.loadtxt(\"/content/drive/MyDrive/ApNotebook/machine_learning_v2_2/local_test_refs/multi_svm_decision_function_2.npy\"))\n",
        "    assert list(multi_svm.predict(X)) == [3, 3, 3, 3, 3, 3, 3, 3, 3, 2, 3, 3, 3, 3, 3, 3, 3, 3, 3, 3, 3, 3, 3]\n",
        "\n",
        "    # gradient descent 1000 iters\n",
        "    final_loss = multi_svm.fit(X, y, n_iters = 1000)\n",
        "    thetas, bs = multi_svm.get_params()\n",
        "    assert np.allclose(thetas, np.array(\n",
        "        [[-3.0304888496823272, -0.173522930862437, 1.8837726999313502, -0.1064134037200739],\n",
        "         [1.1689677242800083, -1.5149193085489543, -0.5185826453689177, 2.3815731713004644]]\n",
        "    ))\n",
        "    assert np.allclose(bs, [1.260869565217392, 6.56521739130436, -12.260869565217392, -20.695652173913004])\n",
        "    assert np.allclose(final_loss, 4.864387185921901e-05)\n",
        "    assert np.allclose(multi_svm.decision_function(X), np.loadtxt(\"/content/drive/MyDrive/ApNotebook/machine_learning_v2_2/local_test_refs/multi_svm_decision_function_1000.npy\"))\n",
        "    assert list(multi_svm.predict(X)) == list(y)\n",
        "    print(\"All tests passed!\")\n",
        "\n",
        "\n",
        "test_multiclass_svm_classifier()"
      ],
      "metadata": {
        "colab": {
          "base_uri": "https://localhost:8080/"
        },
        "id": "Egha7WLl_k6T",
        "outputId": "ad112434-0973-4790-a3da-00bc8a39b67d"
      },
      "execution_count": 77,
      "outputs": [
        {
          "output_type": "stream",
          "name": "stdout",
          "text": [
            "All tests passed!\n"
          ]
        }
      ]
    },
    {
      "cell_type": "code",
      "source": [
        "np.loadtxt(\"/content/drive/MyDrive/ApNotebook/machine_learning_v2_2/local_test_refs/multi_svm_decision_function_1000.npy\")"
      ],
      "metadata": {
        "colab": {
          "base_uri": "https://localhost:8080/"
        },
        "id": "jCSh0APbAX9I",
        "outputId": "83a58211-3099-493a-943a-e0c130071586"
      },
      "execution_count": 70,
      "outputs": [
        {
          "output_type": "execute_result",
          "data": {
            "text/plain": [
              "array([[  5.24418706,  -2.69782139, -13.48859274,  -6.51262655],\n",
              "       [  6.41315479,  -4.2127407 , -14.00717538,  -4.13105338],\n",
              "       [  1.04473049,  -1.35642501, -11.08623739,  -9.00061312],\n",
              "       [  4.55163366,  -5.90118294, -12.64198533,  -1.85589361],\n",
              "       [ -8.52315038,   2.84128705,  -5.76294406, -16.35815945],\n",
              "       [ -7.35418266,   1.32636774,  -6.2815267 , -13.97658627],\n",
              "       [-12.72260696,   4.18268343,  -3.36058871, -18.84614602],\n",
              "       [-11.55363923,   2.66776412,  -3.87917136, -16.46457285],\n",
              "       [-10.38467151,   1.15284481,  -4.397754  , -14.08299968],\n",
              "       [-15.75309581,   4.0091605 ,  -1.47681601, -18.95255942],\n",
              "       [-14.58412808,   2.49424119,  -1.99539866, -16.57098625],\n",
              "       [-21.33765918,  -1.05616622,   2.61875415, -12.12708012],\n",
              "       [-17.83075601,  -5.60092415,   1.06300622,  -4.98236061],\n",
              "       [-23.19918031,  -2.74460846,   3.98394421,  -9.85192035],\n",
              "       [-22.03021259,  -4.25952777,   3.46536156,  -7.47034718],\n",
              "       [-25.06070144,  -4.4330507 ,   5.34913426,  -7.57676059],\n",
              "       [ -3.37086516,  -7.93667104,  -7.50924987,   0.20643935],\n",
              "       [ -2.20189744,  -9.45159035,  -8.02783252,   2.58801252],\n",
              "       [ -1.03292972, -10.96650966,  -8.54641516,   4.96958569],\n",
              "       [ -6.40135401,  -8.11019397,  -5.62547717,   0.10002595],\n",
              "       [ -5.23238629,  -9.62511328,  -6.14405982,   2.48159912],\n",
              "       [ -8.26287514,  -9.79863621,  -4.26028712,   2.37518571],\n",
              "       [-10.12439627, -11.48707845,  -2.89509706,   4.65034548]])"
            ]
          },
          "metadata": {},
          "execution_count": 70
        }
      ]
    },
    {
      "cell_type": "code",
      "source": [],
      "metadata": {
        "id": "au7cpFXgCKkH"
      },
      "execution_count": null,
      "outputs": []
    }
  ],
  "metadata": {
    "colab": {
      "provenance": [],
      "mount_file_id": "1KxD0Z45O33_CyrxD2QuCbLkvJz0BFDmN",
      "authorship_tag": "ABX9TyN3u2Y6H043yFPY1EIVXLHg",
      "include_colab_link": true
    },
    "kernelspec": {
      "display_name": "Python 3",
      "name": "python3"
    },
    "language_info": {
      "name": "python"
    }
  },
  "nbformat": 4,
  "nbformat_minor": 0
}
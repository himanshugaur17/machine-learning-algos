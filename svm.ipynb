{
  "nbformat": 4,
  "nbformat_minor": 0,
  "metadata": {
    "colab": {
      "provenance": [],
      "authorship_tag": "ABX9TyP1Evt8xyZ4ubucBTVHyDBU",
      "include_colab_link": true
    },
    "kernelspec": {
      "name": "python3",
      "display_name": "Python 3"
    },
    "language_info": {
      "name": "python"
    }
  },
  "cells": [
    {
      "cell_type": "markdown",
      "metadata": {
        "id": "view-in-github",
        "colab_type": "text"
      },
      "source": [
        "<a href=\"https://colab.research.google.com/github/himanshugaur17/machine-learning-algos/blob/main/svm.ipynb\" target=\"_parent\"><img src=\"https://colab.research.google.com/assets/colab-badge.svg\" alt=\"Open In Colab\"/></a>"
      ]
    },
    {
      "cell_type": "code",
      "source": [
        "import seaborn as sns\n",
        "import scipy.sparse as sp\n",
        "import pandas as pd\n",
        "import numpy as np\n",
        "import matplotlib.pyplot as plt"
      ],
      "metadata": {
        "id": "F-6iu70Y31Kv"
      },
      "execution_count": 1,
      "outputs": []
    },
    {
      "cell_type": "code",
      "execution_count": 35,
      "metadata": {
        "id": "3anwCmil3chG"
      },
      "outputs": [],
      "source": [
        "class SVMClassifier:\n",
        "    def __init__(self, lam):\n",
        "      self.regularizer=lam\n",
        "      self.theta=None\n",
        "      self.b=None\n",
        "\n",
        "    def loss(self, h, y):\n",
        "      n=y.shape[0]\n",
        "      squared_theta_sum=np.dot(self.theta,self.theta.T)\n",
        "      average_squared_theta_sum=(self.regularizer*squared_theta_sum)\n",
        "      y_dot_h=1-h*y\n",
        "      return (np.sum(y_dot_h.clip(min=0))+average_squared_theta_sum)/(2*n)\n",
        "\n",
        "    def fit(self, X, y, n_iters = 100, alpha = 1):\n",
        "      n,k=X.shape\n",
        "      loss_list=[]\n",
        "      self.theta=np.zeros((k,))\n",
        "      self.b=0\n",
        "      h=self.decision_function(X)\n",
        "      loss_list.append(self.loss(h,y))\n",
        "      for i in range(n_iters):\n",
        "        h=self.decision_function(X)\n",
        "        condition=y*h<=1\n",
        "\n",
        "        y_sum=-1*(y[condition].sum())\n",
        "        x_multiplied_y=(np.where(condition,1,0).reshape(-1,1))*(y.reshape(-1,1)*X)\n",
        "        x_multiplied_y_summation=-1*(np.sum(x_multiplied_y,axis=0))+np.multiply(2*self.regularizer,self.theta)\n",
        "\n",
        "        self.b=self.b-(alpha/(2*n))*(y_sum)\n",
        "        self.theta=self.theta-(alpha/(2*n))*(x_multiplied_y_summation)\n",
        "\n",
        "        h=self.decision_function(X)\n",
        "        loss_list.append(self.loss(h,y))\n",
        "      return loss_list\n",
        "\n",
        "    def get_params(self):\n",
        "      return self.theta,self.b\n",
        "\n",
        "    def decision_function(self, X):\n",
        "      h=np.dot(X,self.theta.T)+self.b\n",
        "      return h\n",
        "\n",
        "    def predict(self, X):\n",
        "      h=self.decision_function(X)\n",
        "      return np.where(h>=0,1,-1)\n",
        "\n",
        "def binary_svm_classifier(lam = 1e-4):\n",
        "    return SVMClassifier(lam)"
      ]
    },
    {
      "cell_type": "code",
      "source": [
        "def test_binary_svm_classifier():\n",
        "    X = np.array([[-2, 4], [4, 1], [1, 6], [2, 4], [6, 2]])\n",
        "    y = np.array([-1, -1, 1, 1, 1])\n",
        "    svm = binary_svm_classifier(lam = 1e-4)\n",
        "\n",
        "    # gradient descent 1000 iters\n",
        "    losses = svm.fit(X, y, n_iters = 1000)\n",
        "    theta, b = svm.get_params()\n",
        "    assert np.allclose(theta, [0.58802283, 1.17683636])\n",
        "    assert np.allclose(b, -4.8)\n",
        "    assert np.allclose(losses[-1], 1.7307146603971552e-05)\n",
        "    assert np.allclose(svm.decision_function(X), [-1.26870024, -1.27107231, 2.84904097, 1.08339109, 1.08180971])\n",
        "    assert list(svm.predict(X)) == [-1, -1, 1, 1, 1]\n",
        "\n",
        "\n",
        "test_binary_svm_classifier()"
      ],
      "metadata": {
        "colab": {
          "base_uri": "https://localhost:8080/"
        },
        "id": "KxnHv8NpUhIU",
        "outputId": "86e44208-e80f-4e39-ac47-4929745f68ce"
      },
      "execution_count": 37,
      "outputs": [
        {
          "output_type": "stream",
          "name": "stdout",
          "text": [
            "[0.5]\n",
            "All tests passed!\n"
          ]
        }
      ]
    },
    {
      "cell_type": "code",
      "source": [
        "y.reshape(-1,1)*X"
      ],
      "metadata": {
        "colab": {
          "base_uri": "https://localhost:8080/"
        },
        "id": "jMB7lQFsQZOv",
        "outputId": "b88e0214-8d65-403b-ea66-43c8a513f93d"
      },
      "execution_count": 10,
      "outputs": [
        {
          "output_type": "execute_result",
          "data": {
            "text/plain": [
              "array([[ 2, -4],\n",
              "       [-4, -1],\n",
              "       [ 1,  6],\n",
              "       [ 2,  4],\n",
              "       [ 6,  2]])"
            ]
          },
          "metadata": {},
          "execution_count": 10
        }
      ]
    },
    {
      "cell_type": "code",
      "source": [
        "z=(np.where(y>=1,1,0).reshape(-1,1))*(y.reshape(-1,1)*X)"
      ],
      "metadata": {
        "id": "BgVaZwEwQadd"
      },
      "execution_count": 14,
      "outputs": []
    },
    {
      "cell_type": "code",
      "source": [
        "print(z)"
      ],
      "metadata": {
        "colab": {
          "base_uri": "https://localhost:8080/"
        },
        "id": "atFuFsmMTXO0",
        "outputId": "113d5274-af3f-493a-9c5b-382cc3011a25"
      },
      "execution_count": 15,
      "outputs": [
        {
          "output_type": "stream",
          "name": "stdout",
          "text": [
            "[[0 0]\n",
            " [0 0]\n",
            " [1 6]\n",
            " [2 4]\n",
            " [6 2]]\n"
          ]
        }
      ]
    },
    {
      "cell_type": "code",
      "source": [
        "-1*(z.sum(axis=0))"
      ],
      "metadata": {
        "colab": {
          "base_uri": "https://localhost:8080/"
        },
        "id": "776R6ig3TYTO",
        "outputId": "40afb5a2-c7d7-4d0e-b4be-337666399410"
      },
      "execution_count": 17,
      "outputs": [
        {
          "output_type": "execute_result",
          "data": {
            "text/plain": [
              "array([ -9, -12])"
            ]
          },
          "metadata": {},
          "execution_count": 17
        }
      ]
    },
    {
      "cell_type": "code",
      "source": [],
      "metadata": {
        "id": "ERpNGMPbTa7G"
      },
      "execution_count": null,
      "outputs": []
    }
  ]
}
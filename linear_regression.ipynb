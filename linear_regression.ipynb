{
  "nbformat": 4,
  "nbformat_minor": 0,
  "metadata": {
    "colab": {
      "provenance": [],
      "authorship_tag": "ABX9TyO0GICeDLL+FVca8Xoiu9jY",
      "include_colab_link": true
    },
    "kernelspec": {
      "name": "python3",
      "display_name": "Python 3"
    },
    "language_info": {
      "name": "python"
    }
  },
  "cells": [
    {
      "cell_type": "markdown",
      "metadata": {
        "id": "view-in-github",
        "colab_type": "text"
      },
      "source": [
        "<a href=\"https://colab.research.google.com/github/himanshugaur17/machine-learning-algos/blob/main/linear_regression.ipynb\" target=\"_parent\"><img src=\"https://colab.research.google.com/assets/colab-badge.svg\" alt=\"Open In Colab\"/></a>"
      ]
    },
    {
      "cell_type": "code",
      "execution_count": 43,
      "metadata": {
        "id": "4QcyROvnhtPA"
      },
      "outputs": [],
      "source": [
        "import numpy as np\n",
        "import pandas as pd\n",
        "import scipy.sparse as sp\n",
        "import seaborn as sns"
      ]
    },
    {
      "cell_type": "code",
      "source": [
        "    X = np.array([[0.9, 1.9], [1.95, 1.8], [1.85, 0.45], [1.3, 1.55], [1.9, 1.25]])\n",
        "    y = np.array([-9.5, -6.8,  2.3, -5.9, -2.6])"
      ],
      "metadata": {
        "id": "7yqG51UHvbbn"
      },
      "execution_count": 44,
      "outputs": []
    },
    {
      "cell_type": "code",
      "source": [
        "class LinearRegression:\n",
        "  def __init__(self, lam):\n",
        "    self.regularizer=lam\n",
        "    self.theta=None\n",
        "    self.b=None\n",
        "\n",
        "  def loss(self,h,y):\n",
        "    n=y.shape[0]\n",
        "    squared_theta_sum=np.dot(self.theta,self.theta.T)\n",
        "    average_squared_theta_sum=(self.regularizer*squared_theta_sum)/(2*n)\n",
        "    error=h-y\n",
        "    squared_error_sum=np.dot(error,error.T)\n",
        "    average_squared_error_sum=(squared_error_sum)/(2*n)\n",
        "    return average_squared_error_sum+average_squared_theta_sum\n",
        "\n",
        "  def fit(self,X,y,n_iters=100,alpha=0.01):\n",
        "    n,k=X.shape\n",
        "    loss_list=[]\n",
        "    self.theta=np.zeros((k,))\n",
        "    self.b=0\n",
        "    h=self.predict(X)\n",
        "    loss_list.append(self.loss(h,y))\n",
        "\n",
        "    for i in range(n_iters):\n",
        "      h=self.predict(X)\n",
        "      error=h-y\n",
        "      error_multiplied_by_x=np.dot(X.T,error)+np.multiply(self.regularizer,self.theta)\n",
        "      self.b=self.b-(alpha/n)*(np.sum(error,axis=0))\n",
        "      self.theta=self.theta-np.multiply((alpha/n),error_multiplied_by_x)\n",
        "      h=self.predict(X)\n",
        "      loss_list.append(self.loss(h,y))\n",
        "    return loss_list\n",
        "\n",
        "  def get_params(self):\n",
        "    return self.theta, self.b\n",
        "\n",
        "  def predict(self,X):\n",
        "    h=np.dot(X,self.theta.T)+self.b\n",
        "    return h\n"
      ],
      "metadata": {
        "id": "sQlBjkt0iTyV"
      },
      "execution_count": 39,
      "outputs": []
    },
    {
      "cell_type": "code",
      "source": [
        "def linear_regression(lam = 1e-4):\n",
        "    return LinearRegression(lam)"
      ],
      "metadata": {
        "id": "_hyuSOEV8fVY"
      },
      "execution_count": 40,
      "outputs": []
    },
    {
      "cell_type": "code",
      "source": [
        "    X = np.array([[0.9, 1.9], [1.95, 1.8], [1.85, 0.45], [1.3, 1.55], [1.9, 1.25]])\n",
        "    y = np.array([-9.5, -6.8,  2.3, -5.9, -2.6])"
      ],
      "metadata": {
        "id": "Ls9fyPcOzuiy"
      },
      "execution_count": 25,
      "outputs": []
    },
    {
      "cell_type": "code",
      "source": [
        "    n,k=X.shape\n",
        "    loss_list=[]\n",
        "    theta=np.zeros((k,))\n",
        "    b=0"
      ],
      "metadata": {
        "id": "oS3-5D1N7bPr"
      },
      "execution_count": 26,
      "outputs": []
    },
    {
      "cell_type": "code",
      "source": [
        "h=np.dot(X,theta.T)+b\n",
        "print(h)"
      ],
      "metadata": {
        "colab": {
          "base_uri": "https://localhost:8080/"
        },
        "id": "Yp_2yE4f7ik5",
        "outputId": "ae2efa47-9229-43e0-cec7-75ab50b321b6"
      },
      "execution_count": 27,
      "outputs": [
        {
          "output_type": "stream",
          "name": "stdout",
          "text": [
            "[0. 0. 0. 0. 0.]\n"
          ]
        }
      ]
    },
    {
      "cell_type": "code",
      "source": [
        "error=h-y\n",
        "print(error)"
      ],
      "metadata": {
        "colab": {
          "base_uri": "https://localhost:8080/"
        },
        "id": "lXwxtOEp7rD7",
        "outputId": "677ccc47-675d-46ff-a868-a4b518a4d829"
      },
      "execution_count": 28,
      "outputs": [
        {
          "output_type": "stream",
          "name": "stdout",
          "text": [
            "[ 9.5  6.8 -2.3  5.9  2.6]\n"
          ]
        }
      ]
    },
    {
      "cell_type": "code",
      "source": [
        "left=np.dot(X.T,error)\n",
        "print(left)"
      ],
      "metadata": {
        "colab": {
          "base_uri": "https://localhost:8080/"
        },
        "id": "fNcgZTrU74QN",
        "outputId": "cef65d8c-dfc0-43b8-d846-e34a2c351dc9"
      },
      "execution_count": 29,
      "outputs": [
        {
          "output_type": "stream",
          "name": "stdout",
          "text": [
            "[30.165 41.65 ]\n"
          ]
        }
      ]
    },
    {
      "cell_type": "code",
      "source": [
        " np.sum(error,axis=0)"
      ],
      "metadata": {
        "colab": {
          "base_uri": "https://localhost:8080/"
        },
        "id": "7MFa8WoO8HUg",
        "outputId": "25494727-f0f3-4162-b952-a0c5bf68b04c"
      },
      "execution_count": 32,
      "outputs": [
        {
          "output_type": "execute_result",
          "data": {
            "text/plain": [
              "22.5"
            ]
          },
          "metadata": {},
          "execution_count": 32
        }
      ]
    },
    {
      "cell_type": "code",
      "source": [
        "error_multiplied_by_x=np.dot(X.T,error)+np.multiply(self.regularizer,self.theta)"
      ],
      "metadata": {
        "id": "K4qXLi4a7wTr"
      },
      "execution_count": null,
      "outputs": []
    }
  ]
}